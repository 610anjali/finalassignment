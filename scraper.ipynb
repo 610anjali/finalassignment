{
 "cells": [
  {
   "cell_type": "code",
   "execution_count": 7,
   "metadata": {},
   "outputs": [],
   "source": [
    "#Collab with Nikitha Sharma scrape data into a single file \n"
    "import csv \n",
    "from bs4 import BeautifulSoup as soup\n",
    "from urllib.request import urlopen as uReq  \n",
    "Url = 'https://karki23.github.io/Weather-Data/assignment.html'\n",
    "pageHtml = uReq(Url)\n",
    "soupy = soup(pageHtml,\"html.parser\") \n",
    "links = soupy.findAll('a')\n",
    "cities=[]\n",
    "for link in links:\n",
    "    cities.append(link.get('href'))"
   ]
  },
  {
   "cell_type": "code",
   "execution_count": 8,
   "metadata": {},
   "outputs": [],
   "source": [
    "cc=1\n",
    "for city in cities:\n",
    "    url='https://karki23.github.io/Weather-Data/%s'%city\n",
    "    pageHtmll = uReq(url)\n",
    "    soupy = soup(pageHtmll,\"html.parser\") \n",
    "    with open('data.csv','a',newline='') as csvfile:\n",
    "        f = csv.writer(csvfile) \n",
    "        rows = soupy.find_all('tr')\n",
    "        count=0\n",
    "        for tr in rows:\n",
    "            hdata=[]\n",
    "            data=[]\n",
    "            head = tr.find_all('th')\n",
    "            if cc==1:\n",
    "                for th in head:\n",
    "                    hdata.append(th.text.strip())\n",
    "                f.writerow(hdata)\n",
    "            cols = tr.find_all('td') \n",
    "            for td in cols:\n",
    "                data.append(td.text.strip()) \n",
    "            if count>=1:\n",
    "                f.writerow(data)\n",
    "            count=count+1\n",
    "    cc=cc+1"
   ]
  },
  {
   "cell_type": "code",
   "execution_count": null,
   "metadata": {},
   "outputs": [],
   "source": []
  }
 ],
 "metadata": {
  "kernelspec": {
   "display_name": "Python 3",
   "language": "python",
   "name": "python3"
  },
  "language_info": {
   "codemirror_mode": {
    "name": "ipython",
    "version": 3
   },
   "file_extension": ".py",
   "mimetype": "text/x-python",
   "name": "python",
   "nbconvert_exporter": "python",
   "pygments_lexer": "ipython3",
   "version": "3.7.3"
  }
 },
 "nbformat": 4,
 "nbformat_minor": 2
}
